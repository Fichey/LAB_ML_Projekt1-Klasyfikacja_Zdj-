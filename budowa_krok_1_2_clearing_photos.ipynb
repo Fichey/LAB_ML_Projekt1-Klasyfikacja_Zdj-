{
 "cells": [
  {
   "cell_type": "code",
   "execution_count": 63,
   "metadata": {},
   "outputs": [],
   "source": [
    "import cv2\n",
    "import numpy as np\n",
    "\n",
    "\n",
    "input_path = \"Ulcer_2024-08-07-08-25-26_23438.bmp\"\n",
    "\n",
    "image = cv2.imread(input_path)"
   ]
  },
  {
   "cell_type": "code",
   "execution_count": 64,
   "metadata": {},
   "outputs": [],
   "source": [
    "gray = cv2.cvtColor(image, cv2.COLOR_BGR2GRAY)\n",
    "#obszar różny od czarnego\n",
    "mask = np.where(gray > 10, 255, 0).astype(np.uint8)  \n",
    "# Znalezienie konturów\n",
    "contours, _ = cv2.findContours(mask, cv2.RETR_EXTERNAL, cv2.CHAIN_APPROX_SIMPLE)\n",
    "#największy kontur <- ramka obrazka\n",
    "largest_contour = max(contours, key=cv2.contourArea)\n",
    "(x, y), radius = cv2.minEnclosingCircle(largest_contour)\n",
    "center = (int(x), int(y))\n",
    "radius = int(radius)\n",
    "\n",
    "circle_mask = np.zeros_like(gray)\n",
    "cv2.circle(circle_mask, center, radius, 255, thickness=-1)\n",
    "\n",
    "result = cv2.bitwise_and(image, image, mask=circle_mask)"
   ]
  },
  {
   "cell_type": "code",
   "execution_count": 65,
   "metadata": {},
   "outputs": [
    {
     "data": {
      "text/plain": [
       "True"
      ]
     },
     "execution_count": 65,
     "metadata": {},
     "output_type": "execute_result"
    }
   ],
   "source": [
    "# Konwersja do skali szarości\n",
    "gray = cv2.cvtColor(result, cv2.COLOR_BGR2GRAY)\n",
    "\n",
    "# Progowanie – znajdowanie czarnych regionów\n",
    "_, mask = cv2.threshold(gray, 10, 255, cv2.THRESH_BINARY_INV)\n",
    "\n",
    "# Inpainting (wypełnianie braków)\n",
    "output = cv2.inpaint(result, mask, inpaintRadius=5, flags=cv2.INPAINT_TELEA)\n",
    "\n",
    "# 🔹 Zapisz wynik do pliku\n",
    "cv2.imwrite(\"obraz_wypelniony.bmp\", output)\n"
   ]
  },
  {
   "cell_type": "code",
   "execution_count": 66,
   "metadata": {},
   "outputs": [
    {
     "name": "stdout",
     "output_type": "stream",
     "text": [
      "Zapisano plik jako: blankUlcer_2024-08-07-08-25-26_23438.bmp\n"
     ]
    }
   ],
   "source": [
    "import os\n",
    "\n",
    "base, ext = os.path.splitext(input_path)  # Rozdzielenie nazwy i rozszerzenia\n",
    "output_path = f\"blank{base}{ext}\" \n",
    "\n",
    "# Zapisz wynik\n",
    "cv2.imwrite(output_path, output)\n",
    "\n",
    "print(f\"Zapisano plik jako: {output_path}\")"
   ]
  },
  {
   "cell_type": "code",
   "execution_count": 28,
   "metadata": {},
   "outputs": [
    {
     "data": {
      "text/plain": [
       "True"
      ]
     },
     "execution_count": 28,
     "metadata": {},
     "output_type": "execute_result"
    }
   ],
   "source": [
    "\n",
    "# Konwersja do skali szarości\n",
    "gray = cv2.cvtColor(image, cv2.COLOR_BGR2GRAY)\n",
    "\n",
    "# Wykrywanie okręgu – znajdź największy biały obszar\n",
    "circles = cv2.HoughCircles(gray, cv2.HOUGH_GRADIENT, dp=1.2, minDist=100,\n",
    "                           param1=50, param2=30, minRadius=100, maxRadius=500)\n",
    "\n",
    "# Utworzenie maski – czarne tło, biały okrąg\n",
    "mask = np.zeros_like(gray)\n",
    "\n",
    "if circles is not None:\n",
    "    circles = np.uint16(np.around(circles))\n",
    "    for i in circles[0, :]:\n",
    "        cv2.circle(mask, (i[0], i[1]), i[2], (255, 255, 255), thickness=-1)  # Biały wypełniony okrąg\n",
    "\n",
    "# Zastosowanie maski\n",
    "result = cv2.bitwise_and(image, image, mask=mask)\n",
    "\n",
    "# Zapisz wynik\n",
    "cv2.imwrite(\"obraz_w_czesciowym_kole.bmp\", result)\n"
   ]
  }
 ],
 "metadata": {
  "kernelspec": {
   "display_name": "Python 3",
   "language": "python",
   "name": "python3"
  },
  "language_info": {
   "codemirror_mode": {
    "name": "ipython",
    "version": 3
   },
   "file_extension": ".py",
   "mimetype": "text/x-python",
   "name": "python",
   "nbconvert_exporter": "python",
   "pygments_lexer": "ipython3",
   "version": "3.12.6"
  }
 },
 "nbformat": 4,
 "nbformat_minor": 2
}
