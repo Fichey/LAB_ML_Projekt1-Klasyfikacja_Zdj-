{
 "cells": [
  {
   "cell_type": "code",
   "execution_count": 2,
   "metadata": {},
   "outputs": [],
   "source": [
    "import cv2\n",
    "import numpy as np\n",
    "import os\n",
    "\n",
    "input_path = \"archive\\\\Ulcer\\\\Ulcer_2024-08-07-08-31-02_23691.bmp\"\n",
    "#input_path = \"Ulcer_2024-08-07-08-25-26_23438.bmp\"\n",
    "\n",
    "image = cv2.imread(input_path)"
   ]
  },
  {
   "cell_type": "markdown",
   "metadata": {},
   "source": [
    "## Szukanie i usuwanie obramowania"
   ]
  },
  {
   "cell_type": "code",
   "execution_count": 51,
   "metadata": {},
   "outputs": [
    {
     "data": {
      "text/plain": [
       "True"
      ]
     },
     "execution_count": 51,
     "metadata": {},
     "output_type": "execute_result"
    }
   ],
   "source": [
    "gray = cv2.cvtColor(image, cv2.COLOR_BGR2GRAY)\n",
    "#obszar różny od czarnego\n",
    "mask = np.where(gray > 10, 255, 0).astype(np.uint8)  \n",
    "# Znalezienie konturów\n",
    "contours, _ = cv2.findContours(mask, cv2.RETR_EXTERNAL, cv2.CHAIN_APPROX_SIMPLE)\n",
    "#największy kontur <- ramka obrazka\n",
    "largest_contour = max(contours, key=cv2.contourArea)\n",
    "(x, y), radius = cv2.minEnclosingCircle(largest_contour)\n",
    "center = (int(x), int(y))\n",
    "radius = int(radius *0.85)\n",
    "\n",
    "circle_mask = np.zeros_like(gray)\n",
    "cv2.circle(circle_mask, center, radius, 255, thickness=-1)\n",
    "\n",
    "result = cv2.bitwise_and(image, image, mask=circle_mask)\n",
    "cv2.imwrite(\"test1.bmp\", result)"
   ]
  },
  {
   "cell_type": "code",
   "execution_count": 61,
   "metadata": {},
   "outputs": [
    {
     "data": {
      "text/plain": [
       "-1"
      ]
     },
     "execution_count": 61,
     "metadata": {},
     "output_type": "execute_result"
    }
   ],
   "source": [
    "input_path = \"archive\\\\Ulcer\\\\Ulcer_2024-08-07-08-31-02_23691.bmp\"\n",
    "#input_path = \"Ulcer_2024-08-07-08-25-26_23438.bmp\"\n",
    "\n",
    "image = cv2.imread(input_path)\n",
    "\n",
    "border_size = 50\n",
    "\n",
    "# Dodanie czarnej ramki\n",
    "padded_image = cv2.copyMakeBorder(\n",
    "    image,\n",
    "    border_size, border_size,  # Góra, dół\n",
    "    border_size, border_size,  # Lewa, prawa\n",
    "    cv2.BORDER_CONSTANT,\n",
    "    value=(0, 0, 0)  # Kolor czarny\n",
    ")\n",
    "\n",
    "gray = cv2.cvtColor(padded_image, cv2.COLOR_BGR2GRAY)\n",
    "\n",
    "# Progowanie obrazu (testuj różne wartości progów!)\n",
    "_, thresh = cv2.threshold(gray, 50, 255, cv2.THRESH_BINARY)\n",
    "\n",
    "# Znalezienie konturów\n",
    "contours, _ = cv2.findContours(thresh, cv2.RETR_EXTERNAL, cv2.CHAIN_APPROX_SIMPLE)\n",
    "largest_contour = max(contours, key=cv2.contourArea)\n",
    "# Kopia obrazu do podglądu konturów\n",
    "debug_img = padded_image.copy()\n",
    "cv2.drawContours(debug_img, largest_contour, -1, (0, 255, 0), 2)  # Rysuje kontury na zielono\n",
    "\n",
    "# Wyświetlenie konturów do debugowania\n",
    "cv2.imshow(\"Kontury\", debug_img)\n",
    "cv2.waitKey(0)"
   ]
  },
  {
   "cell_type": "markdown",
   "metadata": {},
   "source": [
    "## Usuwanie elips"
   ]
  },
  {
   "cell_type": "code",
   "execution_count": 9,
   "metadata": {},
   "outputs": [],
   "source": [
    "# Konwersja do skali szarości\n",
    "gray = cv2.cvtColor(result, cv2.COLOR_BGR2GRAY)\n",
    "\n",
    "# Progowanie obrazu\n",
    "_, mask = cv2.threshold(gray, 20, 255, cv2.THRESH_BINARY_INV)\n",
    "\n",
    "# Inpainting\n",
    "output = cv2.inpaint(result, mask, inpaintRadius=5, flags=cv2.INPAINT_TELEA)\n",
    "\n"
   ]
  },
  {
   "cell_type": "code",
   "execution_count": 10,
   "metadata": {},
   "outputs": [
    {
     "data": {
      "text/plain": [
       "True"
      ]
     },
     "execution_count": 10,
     "metadata": {},
     "output_type": "execute_result"
    }
   ],
   "source": [
    "cv2.imwrite(\"test.bmp\", output)"
   ]
  },
  {
   "cell_type": "code",
   "execution_count": null,
   "metadata": {},
   "outputs": [
    {
     "name": "stdout",
     "output_type": "stream",
     "text": [
      "Zapisano plik jako: output1\\AVM\\AVM_2024-08-07-08-01-08_158750.bmp\n"
     ]
    }
   ],
   "source": [
    "new_root = \"output1\" \n",
    "original_dir, filename = os.path.split(input_path) \n",
    "_, second_folder = os.path.split(original_dir)\n",
    "\n",
    "new_dir = os.path.join(new_root, second_folder)  \n",
    "os.makedirs(new_dir, exist_ok=True) \n",
    "\n",
    "base, ext = os.path.splitext(filename)\n",
    "new_filename = f\"{base}0{ext}\" \n",
    "\n",
    "output_path = os.path.join(new_dir, new_filename)\n",
    "\n",
    "cv2.imwrite(output_path, output)\n",
    "\n",
    "print(f\"Zapisano plik jako: {output_path}\")"
   ]
  },
  {
   "cell_type": "markdown",
   "metadata": {},
   "source": [
    "## Alternatywa dla szukania obramowania do folderu ulcer\n",
    "zmiana promienia?-> działa jeśli zmiana nie jest przy krawędzi inaczej przycina zmianę"
   ]
  },
  {
   "cell_type": "code",
   "execution_count": null,
   "metadata": {},
   "outputs": [],
   "source": [
    "# # padded_image = cv2.imread(\"output2\\\\Ulcer\\\\Ulcer_2024-08-07-08-25-38_56867.bmp\")\n",
    "\n",
    "\n",
    "# # \"output2\\Ulcer\\Ulcer_2024-08-07-08-25-26_73172.bmp\"\n",
    "\n",
    "# # border_size = 50\n",
    "\n",
    "# # # Dodanie czarnej ramki\n",
    "# # padded_image = cv2.copyMakeBorder(\n",
    "# #     image,\n",
    "# #     border_size, border_size,  # Góra, dół\n",
    "# #     border_size, border_size,  # Lewa, prawa\n",
    "# #     cv2.BORDER_CONSTANT,\n",
    "# #     value=(0, 0, 0)  # Kolor czarny\n",
    "# # )\n",
    "\n",
    "# h, w = 512\n",
    "# margin_x = int(w * 0.058)\n",
    "# margin_y = int(h * 0.058)\n",
    "# # Konwersja do skali szarości\n",
    "# gray = cv2.cvtColor(padded_image, cv2.COLOR_BGR2GRAY)\n",
    "\n",
    "\n",
    "# #problem polega na tym ze teraz rogi nie są czarne\n",
    "# # Tworzenie maski ignorującej rogi\n",
    "# mask = np.where(gray > 10, 255, 0).astype(np.uint8)\n",
    "\n",
    "\n",
    "# # Usunięcie rogów (np. 10% od krawędzi)\n",
    "\n",
    "# mask[:margin_y, :] = 0  # Górny pasek\n",
    "# mask[-margin_y:, :] = 0  # Dolny pasek\n",
    "# mask[:, :margin_x] = 0  # Lewy pasek\n",
    "# mask[:, -margin_x:] = 0  # Prawy pasek\n",
    "\n",
    "# # Znalezienie konturów w zmodyfikowanej masce\n",
    "# contours, _ = cv2.findContours(mask, cv2.RETR_EXTERNAL, cv2.CHAIN_APPROX_SIMPLE)\n",
    "\n",
    "# if contours:\n",
    "#     # Wybór największego konturu (bez rogów)\n",
    "#     largest_contour = max(contours, key=cv2.contourArea)\n",
    "    \n",
    "#     # Znalezienie najmniejszego okręgu obejmującego kontur\n",
    "#     (x, y), radius = cv2.minEnclosingCircle(largest_contour)\n",
    "#     center = (int(x), int(y))\n",
    "#     radius = int(radius * 0.85)  # Opcjonalne lekkie powiększenie\n",
    "\n",
    "#     # Tworzenie maski kołowej\n",
    "#     circle_mask = np.zeros_like(gray)\n",
    "#     cv2.circle(circle_mask, center, radius, 255, thickness=-1)\n",
    "\n",
    "#     # Wycięcie okręgu\n",
    "#     result = cv2.bitwise_and(padded_image, padded_image, mask=circle_mask)\n",
    "    \n",
    "#     # result = result[50:h-50,50:w-50]\n",
    "\n",
    "#     # Dodatkowo: rysowanie wykrytego okręgu na oryginalnym obrazie\n",
    "   \n",
    "\n",
    "#     # Zapis wyników\n",
    "#     cv2.imwrite(\"test1.bmp\", result) "
   ]
  },
  {
   "cell_type": "code",
   "execution_count": null,
   "metadata": {},
   "outputs": [
    {
     "data": {
      "text/plain": [
       "True"
      ]
     },
     "execution_count": 50,
     "metadata": {},
     "output_type": "execute_result"
    }
   ],
   "source": [
    "# image = cv2.imread(\"output2\\\\Ulcer\\\\Ulcer_2024-08-07-08-25-26_73172.bmp\")\n",
    "\n",
    "# # border_size = 50\n",
    "\n",
    "# # # Dodanie czarnej ramki\n",
    "# # padded_image = cv2.copyMakeBorder(\n",
    "# #     image,\n",
    "# #     border_size, border_size,  # Góra, dół\n",
    "# #     border_size, border_size,  # Lewa, prawa\n",
    "# #     cv2.BORDER_CONSTANT,\n",
    "# #     value=(0, 0, 0)  # Kolor czarny\n",
    "# # )\n",
    "\n",
    "\n",
    "# gray = cv2.cvtColor(image, cv2.COLOR_BGR2GRAY)\n",
    "# mask = np.where(gray > 10, 255, 0).astype(np.uint8)\n",
    "# contours, _ = cv2.findContours(mask, cv2.RETR_EXTERNAL, cv2.CHAIN_APPROX_SIMPLE)\n",
    "# largest_contour = max(contours, key=cv2.contourArea)\n",
    "# (x, y), radius = cv2.minEnclosingCircle(largest_contour)\n",
    "# center = (int(x), int(y))\n",
    "# radius = int(radius * 1.05)\n",
    "\n",
    "# # Tworzenie maski kołowej i wycinanie obrazu\n",
    "# circle_mask = np.zeros_like(gray)\n",
    "# cv2.circle(circle_mask, center, radius, 255, thickness=-1)\n",
    "# result = cv2.bitwise_and(image, image, mask=circle_mask)\n",
    "\n",
    "# # Usuwanie czarnych obszarów\n",
    "# gray_result = cv2.cvtColor(result, cv2.COLOR_BGR2GRAY)\n",
    "# _, mask = cv2.threshold(gray_result, 10, 255, cv2.THRESH_BINARY_INV)\n",
    "# output = cv2.inpaint(result, mask, inpaintRadius=5, flags=cv2.INPAINT_TELEA)\n",
    "\n",
    "# gray = cv2.cvtColor(image, cv2.COLOR_BGR2GRAY)\n",
    "\n",
    "# # ------------------ Zapisanie wyniku ------------------\n",
    "# cv2.imwrite(\"test2.bmp\", result) "
   ]
  },
  {
   "cell_type": "markdown",
   "metadata": {},
   "source": [
    "## Połączenie dla wszystkich zdjęć z folderów"
   ]
  },
  {
   "cell_type": "code",
   "execution_count": null,
   "metadata": {},
   "outputs": [],
   "source": [
    "\n",
    "# Ścieżka do folderu z oryginalnymi obrazami\n",
    "input_root = \"archive\"\n",
    "output_root = \"output2\"\n",
    "\n",
    "# Wymiary obrazków i granica (wyznaczona metodą prób i błędów)\n",
    "h, w = (512, 512)\n",
    "margin_x = int(w * 0.064)\n",
    "margin_y = int(h * 0.064)\n",
    "\n",
    "# Przechodzimy rekurencyjnie przez wszystkie pliki w folderze archive\n",
    "for root, _, files in os.walk(input_root):\n",
    "    for file in files:\n",
    "        if file.endswith(\".bmp\"):  # Obsługujemy tylko pliki BMP\n",
    "            input_path = os.path.join(root, file)\n",
    "\n",
    "            # Odtworzenie struktury katalogów w output1\n",
    "            relative_path = os.path.relpath(root, input_root)\n",
    "            output_dir = os.path.join(output_root, relative_path)\n",
    "            os.makedirs(output_dir, exist_ok=True)\n",
    "\n",
    "            # Nowa nazwa pliku (dodajemy \"0\" przed rozszerzeniem)\n",
    "            base, ext = os.path.splitext(file)\n",
    "            new_filename = f\"{base}{ext}\"\n",
    "            output_path = os.path.join(output_dir, new_filename)\n",
    "\n",
    "            # Wczytaj obraz\n",
    "            image = cv2.imread(input_path)\n",
    "\n",
    "            # ------------------ Przetwarzanie obrazu ------------------\n",
    "\n",
    "            # Wykrywanie czarnego tła i znajdowanie największego konturu (okręgu)\n",
    "            gray = cv2.cvtColor(image, cv2.COLOR_BGR2GRAY)\n",
    "            mask = np.where(gray > 10, 255, 0).astype(np.uint8)\n",
    "            contours, _ = cv2.findContours(mask, cv2.RETR_EXTERNAL, cv2.CHAIN_APPROX_SIMPLE)\n",
    "            largest_contour = max(contours, key=cv2.contourArea)\n",
    "            (x, y), radius = cv2.minEnclosingCircle(largest_contour)\n",
    "            center = (int(x), int(y))\n",
    "            radius = int(radius * 1.05)\n",
    "\n",
    "            # Tworzenie maski kołowej i wycinanie obrazu\n",
    "            circle_mask = np.zeros_like(gray)\n",
    "            cv2.circle(circle_mask, center, radius, 255, thickness=-1)\n",
    "            result = cv2.bitwise_and(image, image, mask=circle_mask)\n",
    "\n",
    "            # Usuwanie czarnych obszarów\n",
    "            gray_result = cv2.cvtColor(result, cv2.COLOR_BGR2GRAY)\n",
    "            _, mask = cv2.threshold(gray_result, 10, 255, cv2.THRESH_BINARY_INV)\n",
    "            tmp_output = cv2.inpaint(result, mask, inpaintRadius=5, flags=cv2.INPAINT_TELEA)\n",
    "            \n",
    "            gray = cv2.cvtColor(tmp_output, cv2.COLOR_BGR2GRAY)\n",
    "\n",
    "            # Tworzenie maski ignorującej rogi\n",
    "            mask = np.where(gray > 10, 255, 0).astype(np.uint8)\n",
    "\n",
    "            # Usunięcie rogów\n",
    "            mask[:margin_y, :] = 0\n",
    "            mask[-margin_y:, :] = 0\n",
    "            mask[:, :margin_x] = 0\n",
    "            mask[:, -margin_x:] = 0\n",
    "\n",
    "            # Znalezienie konturów w zmodyfikowanej masce\n",
    "            contours, _ = cv2.findContours(mask, cv2.RETR_EXTERNAL, cv2.CHAIN_APPROX_SIMPLE)\n",
    "\n",
    "            # Wybór największego konturu\n",
    "            largest_contour = max(contours, key=cv2.contourArea)\n",
    "            \n",
    "            # Znalezienie najmniejszego okręgu obejmującego obrazek\n",
    "            (x, y), radius = cv2.minEnclosingCircle(largest_contour)\n",
    "            center = (int(x), int(y))\n",
    "            radius = int(radius * 0.85)  # Lekkie powiększenie\n",
    "\n",
    "            # Tworzenie maski kołowej\n",
    "            circle_mask = np.zeros_like(gray)\n",
    "            cv2.circle(circle_mask, center, radius, 255, thickness=-1)\n",
    "\n",
    "            # Wycięcie okręgu\n",
    "            output = cv2.bitwise_and(tmp_output, tmp_output, mask=circle_mask)\n",
    "\n",
    "\n",
    "            # ------------------ Zapisanie wyniku ------------------\n",
    "            cv2.imwrite(output_path, output)\n"
   ]
  },
  {
   "cell_type": "markdown",
   "metadata": {},
   "source": [
    "## Znalexienie y i przypisanie ścierzek do x"
   ]
  },
  {
   "cell_type": "code",
   "execution_count": null,
   "metadata": {},
   "outputs": [],
   "source": [
    "# Ścieżka do folderu z oryginalnymi obrazami\n",
    "output_root = \"output2\"\n",
    "data_all = []\n",
    "# Przechodzimy rekurencyjnie przez wszystkie pliki w folderze archive\n",
    "for root, _, files in os.walk(output_root):\n",
    "    for file in files:\n",
    "        if file.endswith(\".bmp\"):  # Obsługujemy tylko pliki BMP\n",
    "            input_path = os.path.join(root, file)\n",
    "\n",
    "            # Nowa nazwa pliku (dodajemy \"0\" przed rozszerzeniem)\n",
    "            base, ext = os.path.splitext(file)\n",
    "            new_filename = f\"{base}{ext}\"\n",
    "            image = cv2.imread(input_path)\n",
    "            gray = cv2.cvtColor(image, cv2.COLOR_BGR2GRAY)\n",
    "            # zapisanie obrazu w grayscale (3x mniej danych)\n",
    "            # TODO przezkalowanie z [0,255] do [0,1]\n",
    "            data_all.append([gray, new_filename.split(\"_\")[0]])\n",
    "\n",
    "data_all\n",
    "            \n"
   ]
  },
  {
   "cell_type": "code",
   "execution_count": null,
   "metadata": {},
   "outputs": [],
   "source": [
    "print(data_all[0][0])\n",
    "print(data_all[0][0][0][270]) # mimo że wyświetlają się same zera na podglądzie to obrazek nie jest czarnym prostokątem"
   ]
  }
 ],
 "metadata": {
  "kernelspec": {
   "display_name": "Python 3",
   "language": "python",
   "name": "python3"
  },
  "language_info": {
   "codemirror_mode": {
    "name": "ipython",
    "version": 3
   },
   "file_extension": ".py",
   "mimetype": "text/x-python",
   "name": "python",
   "nbconvert_exporter": "python",
   "pygments_lexer": "ipython3",
   "version": "3.11.0"
  }
 },
 "nbformat": 4,
 "nbformat_minor": 2
}
