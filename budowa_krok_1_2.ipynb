{
 "cells": [
  {
   "cell_type": "code",
   "execution_count": 28,
   "metadata": {},
   "outputs": [],
   "source": [
    "import cv2\n",
    "import numpy as np\n",
    "import os\n",
    "import matplotlib.pyplot as plt\n",
    "import pandas as pd\n",
    "import sklearn\n",
    "from sklearn.model_selection import train_test_split"
   ]
  },
  {
   "cell_type": "markdown",
   "metadata": {},
   "source": [
    "### Cel\n",
    "Celem klasyfikacji obrazów ze zbioru KAUHC jest wsparcie i usprawnienie diagnostyki chorób jelita cienkiego poprzez automatyczne wykrywanie nieprawidłowości na obrazach z endoskopii."
   ]
  },
  {
   "cell_type": "markdown",
   "metadata": {},
   "source": [
    "### Przetwarzanie zdjęć \n",
    "~ docelowy folder output\n",
    "~ pozbycie się adnotacji widocznych na zdjęciach oraz elips zaznaczających miejsce występowania zmiany"
   ]
  },
  {
   "cell_type": "code",
   "execution_count": 2,
   "metadata": {},
   "outputs": [],
   "source": [
    "# Ścieżka do folderu z oryginalnymi obrazami\n",
    "input_root = \"archive\"\n",
    "output_root = \"output\"\n",
    "\n",
    "# Wymiary obrazków i granica (wyznaczona metodą prób i błędów)\n",
    "h, w = (512, 512)\n",
    "margin_x = int(w * 0.064)\n",
    "margin_y = int(h * 0.064)\n",
    "\n",
    "def fix_photos():\n",
    "    # Przechodzimy rekurencyjnie przez wszystkie pliki w folderze archive\n",
    "    for root, _, files in os.walk(input_root):\n",
    "        for file in files:\n",
    "            if file.endswith(\".bmp\"):  # Obsługujemy tylko pliki BMP\n",
    "                input_path = os.path.join(root, file)\n",
    "\n",
    "                # Odtworzenie struktury katalogów w output\n",
    "                relative_path = os.path.relpath(root, input_root)\n",
    "                output_dir = os.path.join(output_root, relative_path)\n",
    "                os.makedirs(output_dir, exist_ok=True)\n",
    "\n",
    "                base, ext = os.path.splitext(file)\n",
    "                new_filename = f\"{base}{ext}\"\n",
    "                output_path = os.path.join(output_dir, new_filename)\n",
    "\n",
    "                image = cv2.imread(input_path)\n",
    "            \n",
    "                ### Usuwanie adnotacji znajdujących się na ramce ###\n",
    "                gray = cv2.cvtColor(image, cv2.COLOR_BGR2GRAY)\n",
    "                mask = np.where(gray > 10, 255, 0).astype(np.uint8) \n",
    "                contours, _ = cv2.findContours(mask, cv2.RETR_EXTERNAL, cv2.CHAIN_APPROX_SIMPLE) \n",
    "                largest_contour = max(contours, key=cv2.contourArea)  \n",
    "                (x, y), radius = cv2.minEnclosingCircle(largest_contour)\n",
    "                center = (int(x), int(y))\n",
    "                radius = int(radius * 1.05)\n",
    "                circle_mask = np.zeros_like(gray)\n",
    "                cv2.circle(circle_mask, center, radius, 255, thickness=-1)\n",
    "                result = cv2.bitwise_and(image, image, mask=circle_mask) \n",
    "\n",
    "                ### Detekcja i usuwanie elips ###\n",
    "                gray_result = cv2.cvtColor(result, cv2.COLOR_BGR2GRAY)\n",
    "                _, mask = cv2.threshold(gray_result, 10, 255, cv2.THRESH_BINARY_INV) \n",
    "                tmp_output = cv2.inpaint(result, mask, inpaintRadius=5, flags=cv2.INPAINT_TELEA) \n",
    "                \n",
    "                ### Przywracanie czarnego obramowania bez adnotacji ###\n",
    "                gray = cv2.cvtColor(tmp_output, cv2.COLOR_BGR2GRAY)\n",
    "                mask = np.where(gray > 10, 255, 0).astype(np.uint8)\n",
    "\n",
    "                mask[:margin_y, :] = 0\n",
    "                mask[-margin_y:, :] = 0\n",
    "                mask[:, :margin_x] = 0\n",
    "                mask[:, -margin_x:] = 0\n",
    "\n",
    "                contours, _ = cv2.findContours(mask, cv2.RETR_EXTERNAL, cv2.CHAIN_APPROX_SIMPLE)\n",
    "                largest_contour = max(contours, key=cv2.contourArea)\n",
    "                (x, y), radius = cv2.minEnclosingCircle(largest_contour)\n",
    "                center = (int(x), int(y))\n",
    "                radius = int(radius * 0.85)\n",
    "\n",
    "                circle_mask = np.zeros_like(gray)\n",
    "                cv2.circle(circle_mask, center, radius, 255, thickness=-1)\n",
    "\n",
    "                output = cv2.bitwise_and(tmp_output, tmp_output, mask=circle_mask)\n",
    "\n",
    "                ### Zapisanie wyniku ###\n",
    "                cv2.imwrite(output_path, output)\n",
    "\n",
    "# fix_photos()"
   ]
  },
  {
   "cell_type": "markdown",
   "metadata": {},
   "source": [
    "### Usunięcie wadliwych zdjęć \n",
    "- widoczna etykieta lub źle dopasowane obramowanie, które może skutkować klasyfikowaniem zdjęć na podstawie tych cech\n",
    "- jakość zdjęć nie zmieniła się od zdjęć orginalnych"
   ]
  },
  {
   "cell_type": "code",
   "execution_count": 7,
   "metadata": {},
   "outputs": [
    {
     "name": "stdout",
     "output_type": "stream",
     "text": [
      "Usunięto: Normal\\Normal_2024-08-07-07-48-57_37769.bmp\n",
      "Usunięto: Normal\\Normal_2024-08-07-07-48-57_55534.bmp\n",
      "Usunięto: Ulcer\\Ulcer_2024-08-07-08-25-26_23438.bmp\n",
      "Usunięto: Ulcer\\Ulcer_2024-08-07-08-25-26_31440.bmp\n",
      "Usunięto: Ulcer\\Ulcer_2024-08-07-08-25-26_55334.bmp\n",
      "Usunięto: Ulcer\\Ulcer_2024-08-07-08-25-26_55599.bmp\n",
      "Usunięto: Ulcer\\Ulcer_2024-08-07-08-25-26_73172.bmp\n"
     ]
    }
   ],
   "source": [
    "folder_path = \"output\"\n",
    "with open(\"delete_path.txt\", \"r\") as file:\n",
    "    files_to_delete = [line.strip() for line in file]\n",
    "    \n",
    "for file_name in files_to_delete:\n",
    "    file_path = os.path.join(folder_path, file_name)\n",
    "    if os.path.exists(file_path):\n",
    "        os.remove(file_path)\n",
    "        print(f\"Usunięto: {file_name}\")\n",
    "    else:\n",
    "        print(f\"Nie znaleziono: {file_name}\")"
   ]
  },
  {
   "cell_type": "markdown",
   "metadata": {},
   "source": [
    "### Znalezienie y i przypisanie ścieżek do x"
   ]
  },
  {
   "cell_type": "code",
   "execution_count": null,
   "metadata": {},
   "outputs": [
    {
     "name": "stderr",
     "output_type": "stream",
     "text": [
      "c:\\Users\\czare\\AppData\\Local\\Programs\\Python\\Python311\\Lib\\site-packages\\numpy\\core\\fromnumeric.py:2009: VisibleDeprecationWarning: Creating an ndarray from ragged nested sequences (which is a list-or-tuple of lists-or-tuples-or ndarrays with different lengths or shapes) is deprecated. If you meant to do this, you must specify 'dtype=object' when creating the ndarray.\n",
      "  result = asarray(a).shape\n"
     ]
    },
    {
     "data": {
      "text/plain": [
       "array([[0, 0, 0, ..., 0, 0, 0],\n",
       "       [0, 0, 0, ..., 0, 0, 0],\n",
       "       [0, 0, 0, ..., 0, 0, 0],\n",
       "       ...,\n",
       "       [0, 0, 0, ..., 0, 0, 0],\n",
       "       [0, 0, 0, ..., 0, 0, 0],\n",
       "       [0, 0, 0, ..., 0, 0, 0]], dtype=uint8)"
      ]
     },
     "execution_count": 23,
     "metadata": {},
     "output_type": "execute_result"
    }
   ],
   "source": [
    "# Ścieżka do folderu z oryginalnymi obrazami\n",
    "\n",
    "def save_to_list():\n",
    "    output_root = \"output\"\n",
    "    X = []\n",
    "    y = []\n",
    "    # Przechodzimy rekurencyjnie przez wszystkie pliki w folderze archive\n",
    "    for root, _, files in os.walk(output_root):\n",
    "        for file in files:\n",
    "            if file.endswith(\".bmp\"):  # Obsługujemy tylko pliki BMP\n",
    "                input_path = os.path.join(root, file)\n",
    "\n",
    "                # Nowa nazwa pliku (dodajemy \"0\" przed rozszerzeniem)\n",
    "                base, ext = os.path.splitext(file)\n",
    "                new_filename = f\"{base}{ext}\"\n",
    "                image = cv2.imread(input_path)\n",
    "                gray = cv2.cvtColor(image, cv2.COLOR_BGR2GRAY)\n",
    "                # zapisanie obrazu w grayscale (3x mniej danych)\n",
    "                # TODO przezkalowanie z [0,255] do [0,1]\n",
    "                X.append(gray)\n",
    "                y.append(new_filename.split(\"_\")[0])\n",
    "    return X, y\n",
    "\n",
    "# data_all = save_to_list()\n",
    "# print(np.shape(data_all))\n",
    "X, y = save_to_list()\n",
    "np.shape(X)"
   ]
  },
  {
   "cell_type": "code",
   "execution_count": 24,
   "metadata": {},
   "outputs": [
    {
     "name": "stdout",
     "output_type": "stream",
     "text": [
      "[[0 0 0 ... 0 0 0]\n",
      " [0 0 0 ... 0 0 0]\n",
      " [0 0 0 ... 0 0 0]\n",
      " ...\n",
      " [0 0 0 ... 0 0 0]\n",
      " [0 0 0 ... 0 0 0]\n",
      " [0 0 0 ... 0 0 0]]\n",
      "58\n"
     ]
    }
   ],
   "source": [
    "print(X[0])\n",
    "print(X[0][0][270]) # mimo że wyświetlają się same zera na podglądzie to obrazek nie jest czarnym prostokątem"
   ]
  },
  {
   "cell_type": "markdown",
   "metadata": {},
   "source": [
    "### Liczba zdjęć w orginale"
   ]
  },
  {
   "cell_type": "code",
   "execution_count": 8,
   "metadata": {},
   "outputs": [
    {
     "data": {
      "text/html": [
       "<div>\n",
       "<style scoped>\n",
       "    .dataframe tbody tr th:only-of-type {\n",
       "        vertical-align: middle;\n",
       "    }\n",
       "\n",
       "    .dataframe tbody tr th {\n",
       "        vertical-align: top;\n",
       "    }\n",
       "\n",
       "    .dataframe thead th {\n",
       "        text-align: right;\n",
       "    }\n",
       "</style>\n",
       "<table border=\"1\" class=\"dataframe\">\n",
       "  <thead>\n",
       "    <tr style=\"text-align: right;\">\n",
       "      <th></th>\n",
       "      <th>Nazwa klasy</th>\n",
       "      <th>Liczba zdjęć</th>\n",
       "    </tr>\n",
       "  </thead>\n",
       "  <tbody>\n",
       "    <tr>\n",
       "      <th>0</th>\n",
       "      <td>AVM</td>\n",
       "      <td>673</td>\n",
       "    </tr>\n",
       "    <tr>\n",
       "      <th>1</th>\n",
       "      <td>Normal</td>\n",
       "      <td>2156</td>\n",
       "    </tr>\n",
       "    <tr>\n",
       "      <th>2</th>\n",
       "      <td>Ulcer</td>\n",
       "      <td>472</td>\n",
       "    </tr>\n",
       "  </tbody>\n",
       "</table>\n",
       "</div>"
      ],
      "text/plain": [
       "  Nazwa klasy  Liczba zdjęć\n",
       "0         AVM           673\n",
       "1      Normal          2156\n",
       "2       Ulcer           472"
      ]
     },
     "execution_count": 8,
     "metadata": {},
     "output_type": "execute_result"
    }
   ],
   "source": [
    "parent_folder = \"archive\"\n",
    "archive_data = []  \n",
    "\n",
    "for folder in os.listdir(parent_folder):\n",
    "    folder_path = os.path.join(parent_folder, folder)\n",
    "    if os.path.isdir(folder_path):\n",
    "        count = sum(1 for f in os.listdir(folder_path) if f.endswith(\".bmp\"))\n",
    "        archive_data.append([folder, count])  \n",
    "\n",
    "df_archive = pd.DataFrame(archive_data, columns=[\"Nazwa klasy\", \"Liczba zdjęć\"])\n",
    "df_archive"
   ]
  },
  {
   "cell_type": "markdown",
   "metadata": {},
   "source": [
    "### Liczba zdjęć po usunięciu"
   ]
  },
  {
   "cell_type": "code",
   "execution_count": 9,
   "metadata": {},
   "outputs": [
    {
     "data": {
      "text/html": [
       "<div>\n",
       "<style scoped>\n",
       "    .dataframe tbody tr th:only-of-type {\n",
       "        vertical-align: middle;\n",
       "    }\n",
       "\n",
       "    .dataframe tbody tr th {\n",
       "        vertical-align: top;\n",
       "    }\n",
       "\n",
       "    .dataframe thead th {\n",
       "        text-align: right;\n",
       "    }\n",
       "</style>\n",
       "<table border=\"1\" class=\"dataframe\">\n",
       "  <thead>\n",
       "    <tr style=\"text-align: right;\">\n",
       "      <th></th>\n",
       "      <th>Nazwa klasy</th>\n",
       "      <th>Liczba zdjęć</th>\n",
       "    </tr>\n",
       "  </thead>\n",
       "  <tbody>\n",
       "    <tr>\n",
       "      <th>0</th>\n",
       "      <td>AVM</td>\n",
       "      <td>673</td>\n",
       "    </tr>\n",
       "    <tr>\n",
       "      <th>1</th>\n",
       "      <td>Normal</td>\n",
       "      <td>2154</td>\n",
       "    </tr>\n",
       "    <tr>\n",
       "      <th>2</th>\n",
       "      <td>Ulcer</td>\n",
       "      <td>467</td>\n",
       "    </tr>\n",
       "  </tbody>\n",
       "</table>\n",
       "</div>"
      ],
      "text/plain": [
       "  Nazwa klasy  Liczba zdjęć\n",
       "0         AVM           673\n",
       "1      Normal          2154\n",
       "2       Ulcer           467"
      ]
     },
     "execution_count": 9,
     "metadata": {},
     "output_type": "execute_result"
    }
   ],
   "source": [
    "parent_folder = \"output\"\n",
    "output_data = []  \n",
    "\n",
    "for folder in os.listdir(parent_folder):\n",
    "    folder_path = os.path.join(parent_folder, folder)\n",
    "    if os.path.isdir(folder_path):\n",
    "        count = sum(1 for f in os.listdir(folder_path) if f.endswith(\".bmp\"))\n",
    "        output_data.append([folder, count])  \n",
    "df_output = pd.DataFrame(output_data, columns=[\"Nazwa klasy\", \"Liczba zdjęć\"])\n",
    "df_output"
   ]
  },
  {
   "cell_type": "markdown",
   "metadata": {},
   "source": [
    "### Procent pozostawionych zdjęć"
   ]
  },
  {
   "cell_type": "code",
   "execution_count": 10,
   "metadata": {},
   "outputs": [
    {
     "name": "stdout",
     "output_type": "stream",
     "text": [
      "  Nazwa klasy  Procent zachowanych zdjęć\n",
      "0         AVM                 100.000000\n",
      "1      Normal                  99.907236\n",
      "2       Ulcer                  98.940678\n",
      "Procent zachowanych zdjęć: 99.79%\n"
     ]
    }
   ],
   "source": [
    "perc_left_photos = []\n",
    "for i in range(len(archive_data)):\n",
    "    perc_left_photos.append([archive_data[i][0], output_data[i][1] / archive_data[i][1] * 100])\n",
    "    \n",
    "perc_left_all = sum(output_data[i][1] for i in range(len(output_data)))/sum(archive_data[i][1] for i in range(len(archive_data))) * 100\n",
    "df_perc_left_photos = pd.DataFrame(perc_left_photos, columns=[\"Nazwa klasy\", \"Procent zachowanych zdjęć\"])\n",
    "print(df_perc_left_photos)\n",
    "print(f\"Procent zachowanych zdjęć: {perc_left_all:.2f}%\")"
   ]
  },
  {
   "cell_type": "markdown",
   "metadata": {},
   "source": [
    "### Rozkład klas"
   ]
  },
  {
   "cell_type": "code",
   "execution_count": 11,
   "metadata": {},
   "outputs": [
    {
     "data": {
      "image/png": "[encoded data removed]",
      "text/plain": [
       "<Figure size 640x480 with 1 Axes>"
      ]
     },
     "metadata": {},
     "output_type": "display_data"
    }
   ],
   "source": [
    "labels, values = zip(*output_data)  \n",
    "\n",
    "bars = plt.bar(labels, values)\n",
    "for bar in bars:\n",
    "    plt.text(bar.get_x() + bar.get_width() / 2, bar.get_height() + 1, \n",
    "            str(bar.get_height()), ha='center')\n",
    "plt.xlabel(\"Klasa\")\n",
    "plt.ylabel(\"Liczba zdjęć\")\n",
    "plt.title(\"Rozkład klas\")\n",
    "plt.style.use('fivethirtyeight') \n",
    "plt.show()"
   ]
  },
  {
   "cell_type": "markdown",
   "metadata": {},
   "source": [
    "## Podzielenie datasetu"
   ]
  },
  {
   "cell_type": "code",
   "execution_count": 31,
   "metadata": {},
   "outputs": [
    {
     "name": "stdout",
     "output_type": "stream",
     "text": [
      "(2305,) (494,) (495,)\n",
      "(2305,) (494,) (495,)\n"
     ]
    },
    {
     "name": "stderr",
     "output_type": "stream",
     "text": [
      "c:\\Users\\czare\\AppData\\Local\\Programs\\Python\\Python311\\Lib\\site-packages\\numpy\\core\\fromnumeric.py:2009: VisibleDeprecationWarning: Creating an ndarray from ragged nested sequences (which is a list-or-tuple of lists-or-tuples-or ndarrays with different lengths or shapes) is deprecated. If you meant to do this, you must specify 'dtype=object' when creating the ndarray.\n",
      "  result = asarray(a).shape\n"
     ]
    }
   ],
   "source": [
    "X_train, X_test, y_train, y_test = train_test_split(X, y, test_size=0.3, random_state=123)\n",
    "\n",
    "X_test, X_val, y_test, y_val = train_test_split(X_test, y_test, test_size=0.5, random_state=123)\n",
    "\n",
    "print(np.shape(X_train),np.shape(X_test),np.shape(X_val))\n",
    "print(np.shape(y_train),np.shape(y_test),np.shape(y_val))"
   ]
  }
 ],
 "metadata": {
  "kernelspec": {
   "display_name": "Python 3",
   "language": "python",
   "name": "python3"
  },
  "language_info": {
   "codemirror_mode": {
    "name": "ipython",
    "version": 3
   },
   "file_extension": ".py",
   "mimetype": "text/x-python",
   "name": "python",
   "nbconvert_exporter": "python",
   "pygments_lexer": "ipython3",
   "version": "3.11.0"
  }
 },
 "nbformat": 4,
 "nbformat_minor": 2
}
